{
 "cells": [
  {
   "cell_type": "markdown",
   "id": "d23612c5",
   "metadata": {},
   "source": [
    "\n",
    "## Task 1.1\n"
   ]
  },
  {
   "cell_type": "code",
   "execution_count": 1,
   "id": "19fd8c30",
   "metadata": {
    "_cell_guid": "b1076dfc-b9ad-4769-8c92-a6c4dae69d19",
    "_uuid": "8f2839f25d086af736a60e9eeb907d3b93b6e0e5",
    "execution": {
     "iopub.execute_input": "2024-05-03T18:52:31.797738Z",
     "iopub.status.busy": "2024-05-03T18:52:31.797388Z",
     "iopub.status.idle": "2024-05-03T18:52:45.715517Z",
     "shell.execute_reply": "2024-05-03T18:52:45.714578Z"
    },
    "papermill": {
     "duration": 13.926937,
     "end_time": "2024-05-03T18:52:45.717942",
     "exception": false,
     "start_time": "2024-05-03T18:52:31.791005",
     "status": "completed"
    },
    "tags": []
   },
   "outputs": [
    {
     "name": "stdout",
     "output_type": "stream",
     "text": [
      "Collecting sec-edgar-downloader\r\n",
      "  Downloading sec_edgar_downloader-5.0.2-py3-none-any.whl.metadata (11 kB)\r\n",
      "Requirement already satisfied: requests in /opt/conda/lib/python3.10/site-packages (from sec-edgar-downloader) (2.31.0)\r\n",
      "Collecting pyrate-limiter>=3.1.0 (from sec-edgar-downloader)\r\n",
      "  Downloading pyrate_limiter-3.6.1-py3-none-any.whl.metadata (24 kB)\r\n",
      "Requirement already satisfied: charset-normalizer<4,>=2 in /opt/conda/lib/python3.10/site-packages (from requests->sec-edgar-downloader) (3.3.2)\r\n",
      "Requirement already satisfied: idna<4,>=2.5 in /opt/conda/lib/python3.10/site-packages (from requests->sec-edgar-downloader) (3.6)\r\n",
      "Requirement already satisfied: urllib3<3,>=1.21.1 in /opt/conda/lib/python3.10/site-packages (from requests->sec-edgar-downloader) (1.26.18)\r\n",
      "Requirement already satisfied: certifi>=2017.4.17 in /opt/conda/lib/python3.10/site-packages (from requests->sec-edgar-downloader) (2024.2.2)\r\n",
      "Downloading sec_edgar_downloader-5.0.2-py3-none-any.whl (14 kB)\r\n",
      "Downloading pyrate_limiter-3.6.1-py3-none-any.whl (26 kB)\r\n",
      "Installing collected packages: pyrate-limiter, sec-edgar-downloader\r\n",
      "Successfully installed pyrate-limiter-3.6.1 sec-edgar-downloader-5.0.2\r\n"
     ]
    }
   ],
   "source": [
    "!pip install sec-edgar-downloader\n",
    "\n"
   ]
  },
  {
   "cell_type": "code",
   "execution_count": 2,
   "id": "60299bdc",
   "metadata": {
    "execution": {
     "iopub.execute_input": "2024-05-03T18:52:45.729579Z",
     "iopub.status.busy": "2024-05-03T18:52:45.729252Z",
     "iopub.status.idle": "2024-05-03T18:52:45.809762Z",
     "shell.execute_reply": "2024-05-03T18:52:45.809047Z"
    },
    "papermill": {
     "duration": 0.088483,
     "end_time": "2024-05-03T18:52:45.811720",
     "exception": false,
     "start_time": "2024-05-03T18:52:45.723237",
     "status": "completed"
    },
    "tags": []
   },
   "outputs": [],
   "source": [
    "from sec_edgar_downloader import Downloader\n",
    "import os\n"
   ]
  },
  {
   "cell_type": "code",
   "execution_count": 3,
   "id": "cad327c0",
   "metadata": {
    "execution": {
     "iopub.execute_input": "2024-05-03T18:52:45.823018Z",
     "iopub.status.busy": "2024-05-03T18:52:45.822773Z",
     "iopub.status.idle": "2024-05-03T18:52:45.828364Z",
     "shell.execute_reply": "2024-05-03T18:52:45.827561Z"
    },
    "papermill": {
     "duration": 0.013518,
     "end_time": "2024-05-03T18:52:45.830301",
     "exception": false,
     "start_time": "2024-05-03T18:52:45.816783",
     "status": "completed"
    },
    "tags": []
   },
   "outputs": [],
   "source": [
    "def download_10k(ticker, start_year=1995, end_year=2023):\n",
    "\n",
    "  \n",
    "  for year in range(start_year, end_year + 1):\n",
    "    dl = Downloader(download_folder=f'/kaggle/working/dataset/{year}',email_address=\"xyz@yahoo.com\",company_name=ticker) \n",
    "    try:\n",
    "      dl.get(\"10-K\", ticker, after=f\"{year}-01-01\",before=f\"{year+1}-01-01\")  \n",
    "      print(f\"Downloaded 10-K for {ticker} - {year}\")\n",
    "    except Exception as e:\n",
    "      print(f\"Error downloading {ticker} - {year}: {e}\")     "
   ]
  },
  {
   "cell_type": "markdown",
   "id": "0a635538",
   "metadata": {},
   "source": []
  },
  {
   "cell_type": "code",
   "execution_count": null,
   "id": "5761b9d3",
   "metadata": {},
   "outputs": [],
   "source": [
    "# Here since we're running on Kaggle Kernel the stock name has been hardcded\n",
    "\n",
    "# we can use input() function to take input from user"
   ]
  },
  {
   "cell_type": "code",
   "execution_count": 4,
   "id": "46e784af",
   "metadata": {
    "execution": {
     "iopub.execute_input": "2024-05-03T18:52:45.841150Z",
     "iopub.status.busy": "2024-05-03T18:52:45.840893Z",
     "iopub.status.idle": "2024-05-03T18:52:45.844527Z",
     "shell.execute_reply": "2024-05-03T18:52:45.843709Z"
    },
    "papermill": {
     "duration": 0.011455,
     "end_time": "2024-05-03T18:52:45.846645",
     "exception": false,
     "start_time": "2024-05-03T18:52:45.835190",
     "status": "completed"
    },
    "tags": []
   },
   "outputs": [],
   "source": [
    "ticker = \"TSLA\""
   ]
  },
  {
   "cell_type": "code",
   "execution_count": 5,
   "id": "4e5fab84",
   "metadata": {
    "execution": {
     "iopub.execute_input": "2024-05-03T18:52:45.857654Z",
     "iopub.status.busy": "2024-05-03T18:52:45.857264Z",
     "iopub.status.idle": "2024-05-03T18:53:05.187195Z",
     "shell.execute_reply": "2024-05-03T18:53:05.186226Z"
    },
    "papermill": {
     "duration": 19.33768,
     "end_time": "2024-05-03T18:53:05.189164",
     "exception": false,
     "start_time": "2024-05-03T18:52:45.851484",
     "status": "completed"
    },
    "tags": []
   },
   "outputs": [
    {
     "name": "stdout",
     "output_type": "stream",
     "text": [
      "Downloaded 10-K for TSLA - 1995\n",
      "Downloaded 10-K for TSLA - 1996\n",
      "Downloaded 10-K for TSLA - 1997\n",
      "Downloaded 10-K for TSLA - 1998\n",
      "Downloaded 10-K for TSLA - 1999\n",
      "Downloaded 10-K for TSLA - 2000\n",
      "Downloaded 10-K for TSLA - 2001\n",
      "Downloaded 10-K for TSLA - 2002\n",
      "Downloaded 10-K for TSLA - 2003\n",
      "Downloaded 10-K for TSLA - 2004\n",
      "Downloaded 10-K for TSLA - 2005\n",
      "Downloaded 10-K for TSLA - 2006\n",
      "Downloaded 10-K for TSLA - 2007\n",
      "Downloaded 10-K for TSLA - 2008\n",
      "Downloaded 10-K for TSLA - 2009\n",
      "Downloaded 10-K for TSLA - 2010\n",
      "Downloaded 10-K for TSLA - 2011\n",
      "Downloaded 10-K for TSLA - 2012\n",
      "Downloaded 10-K for TSLA - 2013\n",
      "Downloaded 10-K for TSLA - 2014\n",
      "Downloaded 10-K for TSLA - 2015\n",
      "Downloaded 10-K for TSLA - 2016\n",
      "Downloaded 10-K for TSLA - 2017\n",
      "Downloaded 10-K for TSLA - 2018\n",
      "Downloaded 10-K for TSLA - 2019\n",
      "Downloaded 10-K for TSLA - 2020\n",
      "Downloaded 10-K for TSLA - 2021\n",
      "Downloaded 10-K for TSLA - 2022\n",
      "Downloaded 10-K for TSLA - 2023\n"
     ]
    }
   ],
   "source": [
    "download_10k(ticker)"
   ]
  },
  {
   "cell_type": "code",
   "execution_count": null,
   "id": "af20f335",
   "metadata": {},
   "outputs": [],
   "source": [
    "#Task 1.2 Convert to json object base"
   ]
  },
  {
   "cell_type": "code",
   "execution_count": 6,
   "id": "0c3d4cbb",
   "metadata": {
    "execution": {
     "iopub.execute_input": "2024-05-03T18:53:05.205151Z",
     "iopub.status.busy": "2024-05-03T18:53:05.204513Z",
     "iopub.status.idle": "2024-05-03T18:53:12.525626Z",
     "shell.execute_reply": "2024-05-03T18:53:12.524816Z"
    },
    "papermill": {
     "duration": 7.331712,
     "end_time": "2024-05-03T18:53:12.528050",
     "exception": false,
     "start_time": "2024-05-03T18:53:05.196338",
     "status": "completed"
    },
    "tags": []
   },
   "outputs": [],
   "source": [
    "import os\n",
    "import pandas as pd\n",
    "import spacy\n",
    "from spacy.matcher import Matcher\n",
    "\n",
    "import json"
   ]
  },
  {
   "cell_type": "code",
   "execution_count": 7,
   "id": "f42d8864",
   "metadata": {
    "execution": {
     "iopub.execute_input": "2024-05-03T18:53:12.544386Z",
     "iopub.status.busy": "2024-05-03T18:53:12.543889Z",
     "iopub.status.idle": "2024-05-03T18:53:13.867033Z",
     "shell.execute_reply": "2024-05-03T18:53:13.866224Z"
    },
    "papermill": {
     "duration": 1.333747,
     "end_time": "2024-05-03T18:53:13.869343",
     "exception": false,
     "start_time": "2024-05-03T18:53:12.535596",
     "status": "completed"
    },
    "tags": []
   },
   "outputs": [],
   "source": [
    "# Load spaCy model for English (adjust language if needed)\n",
    "nlp = spacy.load(\"en_core_web_sm\")\n",
    "\n",
    "# Define document path (replace with your actual path)\n",
    "#doc_path = f\"/content/sample_data/dataset/{year}/sec-edgar-filings/{ticker}/10-K\"\n",
    "\n",
    "# Define output path for knowledge base (replace as needed)\n",
    "kb_path = \"knowledge_base.json\"\n",
    "\n"
   ]
  },
  {
   "cell_type": "code",
   "execution_count": 8,
   "id": "26a97226",
   "metadata": {
    "execution": {
     "iopub.execute_input": "2024-05-03T18:53:13.885826Z",
     "iopub.status.busy": "2024-05-03T18:53:13.885413Z",
     "iopub.status.idle": "2024-05-03T18:53:13.891220Z",
     "shell.execute_reply": "2024-05-03T18:53:13.890334Z"
    },
    "papermill": {
     "duration": 0.016429,
     "end_time": "2024-05-03T18:53:13.893176",
     "exception": false,
     "start_time": "2024-05-03T18:53:13.876747",
     "status": "completed"
    },
    "tags": []
   },
   "outputs": [],
   "source": [
    "def preprocess_text(text):\n",
    "\n",
    "  # Convert to lowercase and remove special characters\n",
    "  text = text.lower()\n",
    "  text = re.sub(r\"[^a-zA-Z0-9\\s]\", \"\", text)\n",
    "  # Sentence segmentation\n",
    "  sentences = [sent.text.strip() for sent in nlp(text).sents]\n",
    "  return sentences\n",
    "\n"
   ]
  },
  {
   "cell_type": "code",
   "execution_count": 9,
   "id": "ba359149",
   "metadata": {
    "execution": {
     "iopub.execute_input": "2024-05-03T18:53:13.909135Z",
     "iopub.status.busy": "2024-05-03T18:53:13.908413Z",
     "iopub.status.idle": "2024-05-03T18:53:13.914804Z",
     "shell.execute_reply": "2024-05-03T18:53:13.913943Z"
    },
    "papermill": {
     "duration": 0.016333,
     "end_time": "2024-05-03T18:53:13.916714",
     "exception": false,
     "start_time": "2024-05-03T18:53:13.900381",
     "status": "completed"
    },
    "tags": []
   },
   "outputs": [],
   "source": [
    "def extract_entities(sentences):\n",
    "    entities_list = []\n",
    "    for sentence in sentences:\n",
    "        doc = nlp(sentence)\n",
    "        matcher = Matcher(nlp.vocab)\n",
    "        # Define entity patterns (adjust as needed)\n",
    "        patterns = [\n",
    "            # Company names\n",
    "            [{\"POS\": \"PROPN\"}]\n",
    "        ]\n",
    "        matcher.add(\"Company\", patterns)\n",
    "        matches = matcher(doc)\n",
    "        entities = {}\n",
    "        for match_id, start, end in matches:\n",
    "            span = doc[start:end]\n",
    "            entities[span.text] = span.label_\n",
    "        entities_list.append(entities)\n",
    "    return entities_list\n"
   ]
  },
  {
   "cell_type": "code",
   "execution_count": 10,
   "id": "647cf87c",
   "metadata": {
    "execution": {
     "iopub.execute_input": "2024-05-03T18:53:13.932252Z",
     "iopub.status.busy": "2024-05-03T18:53:13.931933Z",
     "iopub.status.idle": "2024-05-03T18:53:13.937270Z",
     "shell.execute_reply": "2024-05-03T18:53:13.936449Z"
    },
    "papermill": {
     "duration": 0.015321,
     "end_time": "2024-05-03T18:53:13.939205",
     "exception": false,
     "start_time": "2024-05-03T18:53:13.923884",
     "status": "completed"
    },
    "tags": []
   },
   "outputs": [],
   "source": [
    "def process_filing(filepath):\n",
    "  \"\"\"Processes a 10-K filing and extracts information.\n",
    "\n",
    "  Args:\n",
    "      filepath: The path to the 10-K filing document.\n",
    "\n",
    "  Returns:\n",
    "      A dictionary containing extracted information from the filing.\n",
    "  \"\"\"\n",
    "  extracted_data = []\n",
    "\n",
    "  with open(filepath, \"r\") as f:\n",
    "      for line in f:\n",
    "        line=preprocess_text(line)\n",
    "        entities = extract_entities(line)\n",
    "        extracted_data.append({\"text\": line, \"entities\": entities})\n",
    "      \n",
    "  return extracted_data\n",
    "\n"
   ]
  },
  {
   "cell_type": "code",
   "execution_count": 11,
   "id": "bc7593d2",
   "metadata": {
    "execution": {
     "iopub.execute_input": "2024-05-03T18:53:13.954947Z",
     "iopub.status.busy": "2024-05-03T18:53:13.954640Z",
     "iopub.status.idle": "2024-05-03T18:53:13.964328Z",
     "shell.execute_reply": "2024-05-03T18:53:13.963550Z"
    },
    "papermill": {
     "duration": 0.019879,
     "end_time": "2024-05-03T18:53:13.966306",
     "exception": false,
     "start_time": "2024-05-03T18:53:13.946427",
     "status": "completed"
    },
    "tags": []
   },
   "outputs": [],
   "source": [
    "import os\n",
    "import json\n",
    "import re\n",
    "\n",
    "\n",
    "def create_knowledge_base(kb_dir):\n",
    "    \"\"\"Creates a knowledge base from all text files in a directory.\n",
    "\n",
    "    Args:\n",
    "        doc_path: The path to the directory containing text files.\n",
    "        kb_dir: The directory to save the knowledge base JSON files.\n",
    "    \"\"\"\n",
    "    # Ensure that the directory to save knowledge base files exists\n",
    "    os.makedirs(kb_dir, exist_ok=True)\n",
    "    for year in range(1995, 2024):\n",
    "      doc_path = f\"/kaggle/working/dataset/{year}/sec-edgar-filings/{ticker}/10-K\"\n",
    "      if os.path.isdir(doc_path):\n",
    "        # Loop through each subfolder in the specified directory\n",
    "       try:\n",
    "          for subfolder in os.listdir(doc_path):\n",
    "              subfolder_path = os.path.join(doc_path, subfolder)\n",
    "              # Check if the item is a directory\n",
    "              if os.path.isdir(subfolder_path):\n",
    "                  # List all files in the subfolder\n",
    "                  files = os.listdir(subfolder_path)\n",
    "                  # Check if there is exactly one file in the subfolder and it is a text file\n",
    "                  if len(files) == 1 and files[0].endswith(\".txt\"):\n",
    "                      file_path = os.path.join(subfolder_path, files[0])\n",
    "                      # Preprocess the data from the file\n",
    "                      print(file_path)\n",
    "                      \n",
    "                      filing_data = process_filing(file_path)\n",
    "                      \n",
    "                      # Save knowledge base as JSON\n",
    "                      kb_filename = files[0].replace(\".txt\", f\"{year}_knowledge_base.json\")\n",
    "                      kb_path = os.path.join(kb_dir, kb_filename)\n",
    "                      with open(kb_path, \"w\") as f:\n",
    "                          json.dump({\"filename\": files[0], \"data\": filing_data}, f, indent=2)\n",
    "                      print(f\"Knowledge base created and saved to: {kb_path}\")\n",
    "       except FileNotFoundError:\n",
    "            print(f\"Skipping year {year}: Folder not found\")            \n",
    "      else:\n",
    "        print(f\"Skipping year {year}: Year folder not found\")\n",
    "         \n",
    "\n"
   ]
  },
  {
   "cell_type": "code",
   "execution_count": 12,
   "id": "cbf86ac8",
   "metadata": {
    "execution": {
     "iopub.execute_input": "2024-05-03T18:53:13.981741Z",
     "iopub.status.busy": "2024-05-03T18:53:13.981336Z",
     "iopub.status.idle": "2024-05-04T01:43:05.744535Z",
     "shell.execute_reply": "2024-05-04T01:43:05.743554Z"
    },
    "papermill": {
     "duration": 24591.781356,
     "end_time": "2024-05-04T01:43:05.754745",
     "exception": false,
     "start_time": "2024-05-03T18:53:13.973389",
     "status": "completed"
    },
    "tags": []
   },
   "outputs": [
    {
     "name": "stdout",
     "output_type": "stream",
     "text": [
      "Skipping year 1995: Year folder not found\n",
      "Skipping year 1996: Year folder not found\n",
      "Skipping year 1997: Year folder not found\n",
      "Skipping year 1998: Year folder not found\n",
      "Skipping year 1999: Year folder not found\n",
      "Skipping year 2000: Year folder not found\n",
      "Skipping year 2001: Year folder not found\n",
      "Skipping year 2002: Year folder not found\n",
      "Skipping year 2003: Year folder not found\n",
      "Skipping year 2004: Year folder not found\n",
      "Skipping year 2005: Year folder not found\n",
      "Skipping year 2006: Year folder not found\n",
      "Skipping year 2007: Year folder not found\n",
      "Skipping year 2008: Year folder not found\n",
      "Skipping year 2009: Year folder not found\n",
      "Skipping year 2010: Year folder not found\n",
      "/kaggle/working/dataset/2011/sec-edgar-filings/TSLA/10-K/0001193125-11-054847/full-submission.txt\n",
      "Knowledge base created and saved to: knowledge_bases/full-submission2011_knowledge_base.json\n",
      "/kaggle/working/dataset/2012/sec-edgar-filings/TSLA/10-K/0001193125-12-081990/full-submission.txt\n",
      "Knowledge base created and saved to: knowledge_bases/full-submission2012_knowledge_base.json\n",
      "/kaggle/working/dataset/2013/sec-edgar-filings/TSLA/10-K/0001193125-13-096241/full-submission.txt\n",
      "Knowledge base created and saved to: knowledge_bases/full-submission2013_knowledge_base.json\n",
      "/kaggle/working/dataset/2014/sec-edgar-filings/TSLA/10-K/0001193125-14-069681/full-submission.txt\n",
      "Knowledge base created and saved to: knowledge_bases/full-submission2014_knowledge_base.json\n",
      "/kaggle/working/dataset/2015/sec-edgar-filings/TSLA/10-K/0001564590-15-001031/full-submission.txt\n",
      "Knowledge base created and saved to: knowledge_bases/full-submission2015_knowledge_base.json\n",
      "/kaggle/working/dataset/2016/sec-edgar-filings/TSLA/10-K/0001564590-16-013195/full-submission.txt\n",
      "Knowledge base created and saved to: knowledge_bases/full-submission2016_knowledge_base.json\n",
      "/kaggle/working/dataset/2017/sec-edgar-filings/TSLA/10-K/0001564590-17-003118/full-submission.txt\n",
      "Knowledge base created and saved to: knowledge_bases/full-submission2017_knowledge_base.json\n",
      "/kaggle/working/dataset/2018/sec-edgar-filings/TSLA/10-K/0001564590-18-002956/full-submission.txt\n",
      "Knowledge base created and saved to: knowledge_bases/full-submission2018_knowledge_base.json\n",
      "/kaggle/working/dataset/2019/sec-edgar-filings/TSLA/10-K/0001564590-19-003165/full-submission.txt\n",
      "Knowledge base created and saved to: knowledge_bases/full-submission2019_knowledge_base.json\n",
      "/kaggle/working/dataset/2020/sec-edgar-filings/TSLA/10-K/0001564590-20-004475/full-submission.txt\n",
      "Knowledge base created and saved to: knowledge_bases/full-submission2020_knowledge_base.json\n",
      "/kaggle/working/dataset/2021/sec-edgar-filings/TSLA/10-K/0001564590-21-004599/full-submission.txt\n",
      "Knowledge base created and saved to: knowledge_bases/full-submission2021_knowledge_base.json\n",
      "/kaggle/working/dataset/2022/sec-edgar-filings/TSLA/10-K/0000950170-22-000796/full-submission.txt\n",
      "Knowledge base created and saved to: knowledge_bases/full-submission2022_knowledge_base.json\n",
      "/kaggle/working/dataset/2023/sec-edgar-filings/TSLA/10-K/0000950170-23-001409/full-submission.txt\n",
      "Knowledge base created and saved to: knowledge_bases/full-submission2023_knowledge_base.json\n"
     ]
    }
   ],
   "source": [
    "# Example usage:\n",
    "kb_dir = \"knowledge_bases\"  # Directory to save knowledge base JSON files\n",
    "create_knowledge_base(kb_dir)\n"
   ]
  },
  {
   "cell_type": "code",
   "execution_count": null,
   "id": "13dd79e4",
   "metadata": {
    "papermill": {
     "duration": 0.007916,
     "end_time": "2024-05-04T01:43:05.770824",
     "exception": false,
     "start_time": "2024-05-04T01:43:05.762908",
     "status": "completed"
    },
    "tags": []
   },
   "outputs": [],
   "source": []
  },
  {
   "cell_type": "code",
   "execution_count": null,
   "id": "beea5bc9",
   "metadata": {
    "papermill": {
     "duration": 0.007848,
     "end_time": "2024-05-04T01:43:05.787046",
     "exception": false,
     "start_time": "2024-05-04T01:43:05.779198",
     "status": "completed"
    },
    "tags": []
   },
   "outputs": [],
   "source": []
  }
 ],
 "metadata": {
  "kaggle": {
   "accelerator": "gpu",
   "dataSources": [],
   "dockerImageVersionId": 30698,
   "isGpuEnabled": true,
   "isInternetEnabled": true,
   "language": "python",
   "sourceType": "notebook"
  },
  "kernelspec": {
   "display_name": "Python 3",
   "language": "python",
   "name": "python3"
  },
  "language_info": {
   "codemirror_mode": {
    "name": "ipython",
    "version": 3
   },
   "file_extension": ".py",
   "mimetype": "text/x-python",
   "name": "python",
   "nbconvert_exporter": "python",
   "pygments_lexer": "ipython3",
   "version": "3.10.13"
  },
  "papermill": {
   "default_parameters": {},
   "duration": 24640.05894,
   "end_time": "2024-05-04T01:43:09.043193",
   "environment_variables": {},
   "exception": null,
   "input_path": "__notebook__.ipynb",
   "output_path": "__notebook__.ipynb",
   "parameters": {},
   "start_time": "2024-05-03T18:52:28.984253",
   "version": "2.5.0"
  }
 },
 "nbformat": 4,
 "nbformat_minor": 5
}
